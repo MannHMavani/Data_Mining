{
 "cells": [
  {
   "cell_type": "markdown",
   "id": "ee840995",
   "metadata": {},
   "source": [
    "\n",
    "# LAB 6 - PCA Lab - Dimensionality Reduction using NumPy\n",
    "\n",
    "This notebook demonstrates how Principal Component Analysis (PCA) works using only NumPy. You will learn to reduce dimensions and visualize data using PCA.\n"
   ]
  },
  {
   "cell_type": "markdown",
   "id": "55e2da2f",
   "metadata": {},
   "source": [
    "\n",
    "## 🔍 What is Data Reduction?\n",
    "\n",
    "Data reduction refers to the process of reducing the amount of data that needs to be processed and stored, while preserving the essential patterns in the data.\n",
    "\n",
    "### Why do we reduce data?\n",
    "- To reduce computational cost.\n",
    "- To remove noise and redundant features.\n",
    "- To improve model performance and training time.\n",
    "- To visualize high-dimensional data in 2D or 3D.\n",
    "\n",
    "Common data reduction techniques include:\n",
    "- Principal Component Analysis (PCA)\n",
    "- Feature selection\n",
    "- Sampling\n"
   ]
  },
  {
   "cell_type": "markdown",
   "id": "c57398c8",
   "metadata": {},
   "source": [
    "\n",
    "## 📉 What is Principal Component Analysis (PCA)?\n",
    "\n",
    "PCA is a **dimensionality reduction technique** that transforms a dataset into a new coordinate system. It identifies the **directions (principal components)** where the variance of the data is maximized.\n",
    "\n",
    "### Key Concepts:\n",
    "- **Principal Components**: New features (linear combinations of original features) capturing most variance.\n",
    "- **Eigenvectors & Eigenvalues**: Used to compute these principal directions.\n",
    "- **Covariance Matrix**: Measures how features vary with each other.\n",
    "\n",
    "PCA helps in **visualizing high-dimensional data**, **noise reduction**, and **speeding up algorithms**.\n"
   ]
  },
  {
   "cell_type": "markdown",
   "id": "8d08c528",
   "metadata": {},
   "source": [
    "\n",
    "## 🧠 NumPy Functions Summary for PCA\n",
    "\n",
    "| Function | Purpose |\n",
    "|---------|---------|\n",
    "| `np.mean(X, axis=0)` | Compute mean of each column (feature-wise mean). |\n",
    "| `X - np.mean(X, axis=0)` | Centering the data (zero mean). |\n",
    "| `np.cov(X, rowvar=False)` | Compute covariance matrix for features. |\n",
    "| `np.linalg.eigh(cov_mat)` | Get eigenvalues and eigenvectors (for symmetric matrices). |\n",
    "| `np.argsort(values)[::-1]` | Sort values in descending order. |\n",
    "| `np.dot(X, eigenvectors)` | Project original data onto new axes. |\n"
   ]
  },
  {
   "cell_type": "code",
   "execution_count": 1,
   "id": "31f30ae7",
   "metadata": {},
   "outputs": [],
   "source": [
    "# Step 1: Load the Iris Dataset\n",
    "import pandas as pd\n",
    "import numpy as np\n",
    "import matplotlib.pyplot as plt"
   ]
  },
  {
   "cell_type": "code",
   "execution_count": 29,
   "id": "8e8e800e-de13-4410-8732-07ca64f85f93",
   "metadata": {},
   "outputs": [
    {
     "data": {
      "text/html": [
       "<div>\n",
       "<style scoped>\n",
       "    .dataframe tbody tr th:only-of-type {\n",
       "        vertical-align: middle;\n",
       "    }\n",
       "\n",
       "    .dataframe tbody tr th {\n",
       "        vertical-align: top;\n",
       "    }\n",
       "\n",
       "    .dataframe thead th {\n",
       "        text-align: right;\n",
       "    }\n",
       "</style>\n",
       "<table border=\"1\" class=\"dataframe\">\n",
       "  <thead>\n",
       "    <tr style=\"text-align: right;\">\n",
       "      <th></th>\n",
       "      <th>sepal_length</th>\n",
       "      <th>sepal_width</th>\n",
       "      <th>petal_length</th>\n",
       "      <th>petal_width</th>\n",
       "      <th>species</th>\n",
       "    </tr>\n",
       "  </thead>\n",
       "  <tbody>\n",
       "    <tr>\n",
       "      <th>0</th>\n",
       "      <td>5.1</td>\n",
       "      <td>3.5</td>\n",
       "      <td>1.4</td>\n",
       "      <td>0.2</td>\n",
       "      <td>setosa</td>\n",
       "    </tr>\n",
       "    <tr>\n",
       "      <th>1</th>\n",
       "      <td>4.9</td>\n",
       "      <td>3.0</td>\n",
       "      <td>1.4</td>\n",
       "      <td>0.2</td>\n",
       "      <td>setosa</td>\n",
       "    </tr>\n",
       "    <tr>\n",
       "      <th>2</th>\n",
       "      <td>4.7</td>\n",
       "      <td>3.2</td>\n",
       "      <td>1.3</td>\n",
       "      <td>0.2</td>\n",
       "      <td>setosa</td>\n",
       "    </tr>\n",
       "    <tr>\n",
       "      <th>3</th>\n",
       "      <td>4.6</td>\n",
       "      <td>3.1</td>\n",
       "      <td>1.5</td>\n",
       "      <td>0.2</td>\n",
       "      <td>setosa</td>\n",
       "    </tr>\n",
       "    <tr>\n",
       "      <th>4</th>\n",
       "      <td>5.0</td>\n",
       "      <td>3.6</td>\n",
       "      <td>1.4</td>\n",
       "      <td>0.2</td>\n",
       "      <td>setosa</td>\n",
       "    </tr>\n",
       "    <tr>\n",
       "      <th>...</th>\n",
       "      <td>...</td>\n",
       "      <td>...</td>\n",
       "      <td>...</td>\n",
       "      <td>...</td>\n",
       "      <td>...</td>\n",
       "    </tr>\n",
       "    <tr>\n",
       "      <th>145</th>\n",
       "      <td>6.7</td>\n",
       "      <td>3.0</td>\n",
       "      <td>5.2</td>\n",
       "      <td>2.3</td>\n",
       "      <td>virginica</td>\n",
       "    </tr>\n",
       "    <tr>\n",
       "      <th>146</th>\n",
       "      <td>6.3</td>\n",
       "      <td>2.5</td>\n",
       "      <td>5.0</td>\n",
       "      <td>1.9</td>\n",
       "      <td>virginica</td>\n",
       "    </tr>\n",
       "    <tr>\n",
       "      <th>147</th>\n",
       "      <td>6.5</td>\n",
       "      <td>3.0</td>\n",
       "      <td>5.2</td>\n",
       "      <td>2.0</td>\n",
       "      <td>virginica</td>\n",
       "    </tr>\n",
       "    <tr>\n",
       "      <th>148</th>\n",
       "      <td>6.2</td>\n",
       "      <td>3.4</td>\n",
       "      <td>5.4</td>\n",
       "      <td>2.3</td>\n",
       "      <td>virginica</td>\n",
       "    </tr>\n",
       "    <tr>\n",
       "      <th>149</th>\n",
       "      <td>5.9</td>\n",
       "      <td>3.0</td>\n",
       "      <td>5.1</td>\n",
       "      <td>1.8</td>\n",
       "      <td>virginica</td>\n",
       "    </tr>\n",
       "  </tbody>\n",
       "</table>\n",
       "<p>150 rows × 5 columns</p>\n",
       "</div>"
      ],
      "text/plain": [
       "     sepal_length  sepal_width  petal_length  petal_width    species\n",
       "0             5.1          3.5           1.4          0.2     setosa\n",
       "1             4.9          3.0           1.4          0.2     setosa\n",
       "2             4.7          3.2           1.3          0.2     setosa\n",
       "3             4.6          3.1           1.5          0.2     setosa\n",
       "4             5.0          3.6           1.4          0.2     setosa\n",
       "..            ...          ...           ...          ...        ...\n",
       "145           6.7          3.0           5.2          2.3  virginica\n",
       "146           6.3          2.5           5.0          1.9  virginica\n",
       "147           6.5          3.0           5.2          2.0  virginica\n",
       "148           6.2          3.4           5.4          2.3  virginica\n",
       "149           5.9          3.0           5.1          1.8  virginica\n",
       "\n",
       "[150 rows x 5 columns]"
      ]
     },
     "execution_count": 29,
     "metadata": {},
     "output_type": "execute_result"
    }
   ],
   "source": [
    "iris = pd.read_csv(\"iris.csv\")\n",
    "iris"
   ]
  },
  {
   "cell_type": "code",
   "execution_count": 18,
   "id": "98992dc4-5a88-42bc-9aaf-e5c29a368931",
   "metadata": {},
   "outputs": [],
   "source": [
    "X=iris.drop(columns=\"species\")\n",
    "y = iris['species'].map({\n",
    "    'setosa': 0,\n",
    "    'versicolor': 1,\n",
    "    'virginica': 2\n",
    "})"
   ]
  },
  {
   "cell_type": "code",
   "execution_count": 19,
   "id": "921dc368-dc08-406c-a688-37e19d388e5e",
   "metadata": {},
   "outputs": [
    {
     "name": "stdout",
     "output_type": "stream",
     "text": [
      "Original shape: (150, 4)\n"
     ]
    }
   ],
   "source": [
    "print(\"Original shape:\", X.shape)"
   ]
  },
  {
   "cell_type": "code",
   "execution_count": 20,
   "id": "4c8ce884",
   "metadata": {},
   "outputs": [
    {
     "name": "stdout",
     "output_type": "stream",
     "text": [
      "Data after centering (first 5 rows):\n",
      "    sepal_length  sepal_width  petal_length  petal_width\n",
      "0     -0.743333     0.442667        -2.358    -0.999333\n",
      "1     -0.943333    -0.057333        -2.358    -0.999333\n",
      "2     -1.143333     0.142667        -2.458    -0.999333\n",
      "3     -1.243333     0.042667        -2.258    -0.999333\n",
      "4     -0.843333     0.542667        -2.358    -0.999333\n"
     ]
    }
   ],
   "source": [
    "\n",
    "# Step 2: Standardize the data (zero mean)\n",
    "X_meaned = X - np.mean(X, axis=0)\n",
    "print(\"Data after centering (first 5 rows):\\n\", X_meaned[:5])\n"
   ]
  },
  {
   "cell_type": "code",
   "execution_count": 21,
   "id": "e4c90ce5",
   "metadata": {},
   "outputs": [
    {
     "name": "stdout",
     "output_type": "stream",
     "text": [
      "Covariance matrix shape: (4, 4)\n"
     ]
    }
   ],
   "source": [
    "\n",
    "# Step 3: Compute the Covariance Matrix\n",
    "cov_mat = np.cov(X_meaned, rowvar=False)\n",
    "print(\"Covariance matrix shape:\", cov_mat.shape)\n"
   ]
  },
  {
   "cell_type": "code",
   "execution_count": 22,
   "id": "6884d14d-9001-4cc9-b504-f7a7ea5acc0d",
   "metadata": {},
   "outputs": [
    {
     "name": "stdout",
     "output_type": "stream",
     "text": [
      "[[ 0.68569351 -0.042434    1.27431544  0.51627069]\n",
      " [-0.042434    0.18997942 -0.32965638 -0.12163937]\n",
      " [ 1.27431544 -0.32965638  3.11627785  1.2956094 ]\n",
      " [ 0.51627069 -0.12163937  1.2956094   0.58100626]]\n"
     ]
    }
   ],
   "source": [
    "print(cov_mat)"
   ]
  },
  {
   "cell_type": "code",
   "execution_count": 23,
   "id": "73ff20e5",
   "metadata": {},
   "outputs": [
    {
     "name": "stdout",
     "output_type": "stream",
     "text": [
      "Eigenvalues:\n",
      " [0.02383509 0.0782095  0.24267075 4.22824171]\n",
      "Eigenvectors (first 2):\n",
      " [[ 0.31548719  0.58202985]\n",
      " [-0.3197231  -0.59791083]\n",
      " [-0.47983899 -0.07623608]\n",
      " [ 0.75365743 -0.54583143]]\n"
     ]
    }
   ],
   "source": [
    "\n",
    "# Step 4: Compute Eigenvalues and Eigenvectors\n",
    "eigen_values, eigen_vectors = np.linalg.eigh(cov_mat)\n",
    "\n",
    "print(\"Eigenvalues:\\n\", eigen_values)\n",
    "print(\"Eigenvectors (first 2):\\n\", eigen_vectors[:, :2])\n"
   ]
  },
  {
   "cell_type": "code",
   "execution_count": 24,
   "id": "6f49f821-44b4-4b8b-99d9-e5696667f2e8",
   "metadata": {},
   "outputs": [
    {
     "data": {
      "text/plain": [
       "array([[ 0.31548719,  0.58202985,  0.65658877, -0.36138659],\n",
       "       [-0.3197231 , -0.59791083,  0.73016143,  0.08452251],\n",
       "       [-0.47983899, -0.07623608, -0.17337266, -0.85667061],\n",
       "       [ 0.75365743, -0.54583143, -0.07548102, -0.3582892 ]])"
      ]
     },
     "execution_count": 24,
     "metadata": {},
     "output_type": "execute_result"
    }
   ],
   "source": [
    "eigen_vectors"
   ]
  },
  {
   "cell_type": "code",
   "execution_count": 25,
   "id": "787b0e22",
   "metadata": {},
   "outputs": [
    {
     "name": "stdout",
     "output_type": "stream",
     "text": [
      "[3 2 1 0]\n",
      "[4.22824171 0.24267075 0.0782095  0.02383509]\n",
      "[[-0.36138659  0.65658877  0.58202985  0.31548719]\n",
      " [ 0.08452251  0.73016143 -0.59791083 -0.3197231 ]\n",
      " [-0.85667061 -0.17337266 -0.07623608 -0.47983899]\n",
      " [-0.3582892  -0.07548102 -0.54583143  0.75365743]]\n"
     ]
    }
   ],
   "source": [
    "\n",
    "# Step 5: Sort eigenvalues and eigenvectors in descending order\n",
    "sorted_index = np.argsort(eigen_values)[::-1]\n",
    "sorted_eigenvalues = eigen_values[sorted_index]\n",
    "sorted_eigenvectors = eigen_vectors[:, sorted_index]\n",
    "\n",
    "print(sorted_index)\n",
    "print(sorted_eigenvalues)\n",
    "print(sorted_eigenvectors)\n"
   ]
  },
  {
   "cell_type": "code",
   "execution_count": 26,
   "id": "41ff9d25",
   "metadata": {},
   "outputs": [
    {
     "name": "stdout",
     "output_type": "stream",
     "text": [
      "[[-0.36138659  0.65658877]\n",
      " [ 0.08452251  0.73016143]\n",
      " [-0.85667061 -0.17337266]\n",
      " [-0.3582892  -0.07548102]]\n"
     ]
    }
   ],
   "source": [
    "\n",
    "# Step 6: Select the top k eigenvectors (top 2)\n",
    "k = 2\n",
    "eigenvector_subset = sorted_eigenvectors[:, 0:k]\n",
    "print(eigenvector_subset)\n"
   ]
  },
  {
   "cell_type": "code",
   "execution_count": 27,
   "id": "70fceca9",
   "metadata": {},
   "outputs": [
    {
     "name": "stdout",
     "output_type": "stream",
     "text": [
      "Reduced data shape: (150, 2)\n"
     ]
    }
   ],
   "source": [
    "\n",
    "# Step 7: Project the data onto the top k eigenvectors\n",
    "X_reduced = np.dot(X_meaned, eigenvector_subset)\n",
    "print(\"Reduced data shape:\", X_reduced.shape)\n"
   ]
  },
  {
   "cell_type": "code",
   "execution_count": 34,
   "id": "f3d8979d",
   "metadata": {},
   "outputs": [
    {
     "data": {
      "image/png": "[encoded data removed]",
      "text/plain": [
       "<Figure size 800x600 with 1 Axes>"
      ]
     },
     "metadata": {},
     "output_type": "display_data"
    }
   ],
   "source": [
    "\n",
    "# Step 8: Plot the PCA-Reduced Data\n",
    "plt.figure(figsize=(8, 6))\n",
    "plt.scatter(X_reduced[:, 0], X_reduced[:, 1],c=y)\n",
    "plt.xlabel('Principal Component 1')\n",
    "plt.ylabel('Principal Component 2')\n",
    "plt.title('PCA - IRIS Dataset')\n",
    "plt.grid(True)\n",
    "plt.show()\n"
   ]
  },
  {
   "cell_type": "markdown",
   "id": "a199792d",
   "metadata": {},
   "source": [
    "# 5,10,11,13,15,35,50,55,72,92,204,215.\n",
    "Partition them into three bins by each of the following methods:\n",
    "(a) equal-frequency (equal-depth) partitioning\n",
    "(b) equal-width partitioning"
   ]
  },
  {
   "cell_type": "code",
   "execution_count": 9,
   "id": "894f54ff-47fa-4606-acf8-9462dde5c41f",
   "metadata": {},
   "outputs": [
    {
     "name": "stdout",
     "output_type": "stream",
     "text": [
      "Sorted Data: [5, 10, 11, 13, 15, 35, 50, 55, 72, 92, 204, 215]\n",
      "\n",
      "(a) Equal-Frequency Bins:\n",
      "Bin 1: [5, 10, 11, 13]\n",
      "Bin 2: [15, 35, 50, 55]\n",
      "Bin 3: [72, 92, 204, 215]\n",
      "\n",
      "(b) Equal-Width Bins:\n",
      "Bin 1: [5, 10, 11, 13, 15, 35, 50, 55, 72]\n",
      "Bin 2: [92]\n",
      "Bin 3: [204, 215]\n"
     ]
    }
   ],
   "source": [
    "import numpy as np\n",
    "\n",
    "# Given data\n",
    "data = [5, 10, 11, 13, 15, 35, 50, 55, 72, 92, 204, 215]\n",
    "data.sort()  # Sort the data\n",
    "\n",
    "print(\"Sorted Data:\", data)\n",
    "\n",
    "# (a) Equal-Frequency (Equal-Depth)\n",
    "n = len(data)\n",
    "k = 3  # number of bins\n",
    "size = n // k\n",
    "\n",
    "print(\"\\n(a) Equal-Frequency Bins:\")\n",
    "for i in range(0, n, size):\n",
    "    bin_data = data[i:i+size]\n",
    "    print(f\"Bin {i//size + 1}:\", bin_data)\n",
    "\n",
    "# (b) Equal-Width Partitioning\n",
    "min_val = min(data)\n",
    "max_val = max(data)\n",
    "width = (max_val - min_val) / k\n",
    "\n",
    "print(\"\\n(b) Equal-Width Bins:\")\n",
    "bins = [[] for _ in range(k)]\n",
    "\n",
    "for val in data:\n",
    "    index = int((val - min_val) / width)\n",
    "    if index == k:  # include max in the last bin\n",
    "        index = k - 1\n",
    "    bins[index].append(val)\n",
    "\n",
    "for i, b in enumerate(bins):\n",
    "    print(f\"Bin {i + 1}:\", b)\n"
   ]
  },
  {
   "cell_type": "code",
   "execution_count": null,
   "id": "58ebc1aa-bb7f-441a-9a2b-7b2fe627fd86",
   "metadata": {},
   "outputs": [],
   "source": []
  }
 ],
 "metadata": {
  "kernelspec": {
   "display_name": "Python 3 (ipykernel)",
   "language": "python",
   "name": "python3"
  },
  "language_info": {
   "codemirror_mode": {
    "name": "ipython",
    "version": 3
   },
   "file_extension": ".py",
   "mimetype": "text/x-python",
   "name": "python",
   "nbconvert_exporter": "python",
   "pygments_lexer": "ipython3",
   "version": "3.12.5"
  }
 },
 "nbformat": 4,
 "nbformat_minor": 5
}
